{
 "cells": [
  {
   "cell_type": "code",
   "execution_count": 4,
   "metadata": {},
   "outputs": [],
   "source": [
    "import cv2\n",
    "import numpy as np"
   ]
  },
  {
   "cell_type": "code",
   "execution_count": 2,
   "metadata": {},
   "outputs": [],
   "source": [
    "# 이미지 파일 읽기\n",
    "color_image_path = 'output/Frame_0_20240521112409_color.png'\n",
    "depth_image_path = 'output/Frame_0_20240521112409_depth.png'\n",
    "texture_image_path = 'output/Frame_0_20240521112409_texture.png'\n",
    "color_image = cv2.imread(color_image_path)\n",
    "depth_img = cv2.imread(depth_image_path, cv2.IMREAD_UNCHANGED)\n",
    "texture_image = cv2.imread(texture_image_path)"
   ]
  },
  {
   "cell_type": "code",
   "execution_count": 7,
   "metadata": {},
   "outputs": [],
   "source": [
    "# 읽어온 이미지 show\n",
    "cv2.imshow('color_image', color_image)\n",
    "cv2.imshow('depth_image', depth_img)\n",
    "cv2.imshow('texture_image', texture_image)\n",
    "cv2.waitKey(0)\n",
    "cv2.destroyAllWindows()"
   ]
  },
  {
   "cell_type": "code",
   "execution_count": 3,
   "metadata": {},
   "outputs": [
    {
     "name": "stdout",
     "output_type": "stream",
     "text": [
      "color_image shape: (1096, 1932, 3)\n",
      "depth_image shape: (800, 1120)\n",
      "texture_image shape: (800, 1120, 3)\n"
     ]
    }
   ],
   "source": [
    "# 이미지 크기 출력\n",
    "print('color_image shape:', color_image.shape)\n",
    "print('depth_image shape:', depth_img.shape)\n",
    "print('texture_image shape:', texture_image.shape)"
   ]
  }
 ],
 "metadata": {
  "kernelspec": {
   "display_name": "Python 3",
   "language": "python",
   "name": "python3"
  },
  "language_info": {
   "codemirror_mode": {
    "name": "ipython",
    "version": 3
   },
   "file_extension": ".py",
   "mimetype": "text/x-python",
   "name": "python",
   "nbconvert_exporter": "python",
   "pygments_lexer": "ipython3",
   "version": "3.8.18"
  }
 },
 "nbformat": 4,
 "nbformat_minor": 2
}
